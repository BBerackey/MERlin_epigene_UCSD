{
 "cells": [
  {
   "cell_type": "code",
   "execution_count": 40,
   "metadata": {},
   "outputs": [],
   "source": [
    "import json\n",
    "import importlib\n",
    "from pprint import pprint\n",
    "\n",
    "with open('test_parameters.json') as f:\n",
    "    parameters = json.load(f)"
   ]
  },
  {
   "cell_type": "code",
   "execution_count": 41,
   "metadata": {},
   "outputs": [
    {
     "name": "stdout",
     "output_type": "stream",
     "text": [
      "[{'module': 'warp', 'parameters': {}, 'task': 'FiducialCorrelationWarp'},\n",
      " {'module': 'preprocess',\n",
      "  'parameters': {'deconSigma': 2, 'highPassSigma': 3},\n",
      "  'task': 'DeconvolutionPreprocess'}]\n"
     ]
    }
   ],
   "source": [
    "pprint(parameters['analysis_tasks'])"
   ]
  },
  {
   "cell_type": "code",
   "execution_count": 58,
   "metadata": {},
   "outputs": [
    {
     "name": "stdout",
     "output_type": "stream",
     "text": [
      "<class 'merfish_code.analysis.warp.FiducialCorrelationWarp'>\n",
      "{}\n",
      "None\n",
      "<class 'merfish_code.analysis.preprocess.DeconvolutionPreprocess'>\n",
      "{'deconSigma': 2, 'highPassSigma': 3}\n",
      "None\n"
     ]
    }
   ],
   "source": [
    "analysisTasks = []\n",
    "for tDict in parameters['analysis_tasks']:\n",
    "    analysisModule = importlib.import_module('merfish_code.analysis.' +  tDict['module'])\n",
    "    analysisClass = getattr(analysisModule, tDict['task'])\n",
    "    analysisParameters = tDict.get('parameters')\n",
    "    analysisName = tDict.get('analysis_name')\n",
    "    pprint(analysisClass)\n",
    "    pprint(analysisParameters)\n",
    "    pprint(analysisName)\n",
    "    analysisTasks.append(analysisClass)"
   ]
  },
  {
   "cell_type": "code",
   "execution_count": 59,
   "metadata": {},
   "outputs": [
    {
     "data": {
      "text/plain": [
       "[merfish_code.analysis.warp.FiducialCorrelationWarp,\n",
       " merfish_code.analysis.preprocess.DeconvolutionPreprocess]"
      ]
     },
     "execution_count": 59,
     "metadata": {},
     "output_type": "execute_result"
    }
   ],
   "source": [
    "analysisTasks"
   ]
  },
  {
   "cell_type": "code",
   "execution_count": null,
   "metadata": {},
   "outputs": [],
   "source": []
  }
 ],
 "metadata": {
  "kernelspec": {
   "display_name": "Python 3",
   "language": "python",
   "name": "python3"
  },
  "language_info": {
   "codemirror_mode": {
    "name": "ipython",
    "version": 3
   },
   "file_extension": ".py",
   "mimetype": "text/x-python",
   "name": "python",
   "nbconvert_exporter": "python",
   "pygments_lexer": "ipython3",
   "version": "3.6.5"
  }
 },
 "nbformat": 4,
 "nbformat_minor": 2
}
